{
  "nbformat": 4,
  "nbformat_minor": 0,
  "metadata": {
    "colab": {
      "name": "NetworkComparator.ipynb",
      "provenance": [],
      "collapsed_sections": [
        "Tb_FL3tRU31R",
        "9Y0pH658lsIt",
        "hMvzIY8ntOek",
        "A5L3-jqhzvsC"
      ]
    },
    "kernelspec": {
      "name": "python3",
      "display_name": "Python 3"
    },
    "language_info": {
      "name": "python"
    }
  },
  "cells": [
    {
      "cell_type": "markdown",
      "source": [
        "# ***Network Comparator* v1.0**\n",
        "\n",
        "L'obbiettivo di questo notebook è di automatizzare il più possibile l'addestramento e il testing di diverse reti neurali sul **dataset GTSRB** (*German Traffic Sign Recognition Benchmark*) con lo scopo di confrontarne le performance e selezionare le tecniche e le topologie che forniscono risultati migliori.\n",
        "In particolare verranno testate architetture custom e reti preaddestrate quali *VGG16*, *VGG19*, *ResNet50V2*, *InceptionV3* utilizzando tecniche di **Transfer Learning**.\n",
        "\n",
        "Si tratta cioé di un problema di **classificazione multi-classe**, in cui ad ogni esempio deve essere associata l'appartenenza ad una e una sola tra le 43 classi di cui è composto il dataset. Ogni classe corrisponde ad un diverso tipo di cartello stradale.\n",
        "\n",
        "Il **dataset** contiene **51.839 esempi** totali, di cui:\n",
        "\n",
        "- 39.209 di training\n",
        "- 12.630 di test\n",
        "\n",
        "Il dataset è inoltre **fortemente sbilanciato**, con classi sovra-rappresentate ed altre notevolmente sotto-rappresentate.\n",
        "\n",
        "Inoltre per ogni immagine esistono 29 varianti della stessa a cui sono state applicate tecniche di **Data Augmentation** (che consentono di aumentare il numero di esempi di training senza effettivamente collezionarne di nuovi), a partire da vari resize dell'immagine originale fino a filtering più complessi.\n",
        "\n",
        "In questo progetto veranno considerate e testate anche altre tecniche di Data Augmentation, con l'obbiettivo di estrarre nuovi esempi aumentando l'eterogeneità del training set.\n",
        "\n",
        "*Dataset*: https://benchmark.ini.rub.de/gtsrb_news.html\n",
        "\n",
        "\n",
        "\n",
        "```\n",
        "# README\n",
        "Per eseguire in locale è necessario scaricare il dataset (cartella 'archive') e inserirlo insieme a questo codice nella cartella 'Desktop/progetto'.\n",
        "Inoltre per testare Data Augmentation è necessario creare la cartella 'Augmented' all'interno di 'archive'.\n",
        "```\n",
        "\n"
      ],
      "metadata": {
        "id": "Tb_FL3tRU31R"
      }
    },
    {
      "cell_type": "code",
      "execution_count": null,
      "metadata": {
        "id": "2a7BQu4UOzc6"
      },
      "outputs": [],
      "source": [
        "import numpy as np\n",
        "import pandas as pd\n",
        "import os\n",
        "import matplotlib.pyplot as plt\n",
        "import pathlib\n",
        "from sklearn.model_selection import train_test_split\n",
        "from sklearn.metrics import accuracy_score, roc_curve\n",
        "from sklearn.utils import shuffle\n",
        "from matplotlib import pyplot\n",
        "import tensorflow as tf\n",
        "from keras.models import Sequential\n",
        "from tensorflow.keras.preprocessing import image\n",
        "from tensorflow import keras\n",
        "from tensorflow.keras.preprocessing.image import ImageDataGenerator, img_to_array, array_to_img, load_img\n",
        "from tensorflow.keras.utils import to_categorical, save_img\n",
        "from tensorflow.keras import layers\n",
        "from tensorflow.keras.layers import Conv2D, MaxPool2D, Dense, Flatten, Dropout, MaxPooling2D, Dense, GlobalAveragePooling2D, BatchNormalization\n",
        "from tensorflow.keras.models import Sequential, Model\n",
        "from tensorflow.keras.metrics import AUC\n",
        "from keras.callbacks import EarlyStopping, ReduceLROnPlateau\n",
        "from tensorflow.keras.optimizers import Adam, RMSprop, SGD, serialize\n",
        "from tensorflow.keras.applications.vgg16 import VGG16\n",
        "from tensorflow.keras.applications.vgg19 import VGG19\n",
        "from tensorflow.keras.applications.resnet_v2 import ResNet50V2\n",
        "from tensorflow.keras.applications.inception_v3 import InceptionV3\n",
        "from tensorflow_addons.metrics import F1Score"
      ]
    },
    {
      "cell_type": "markdown",
      "source": [
        "# Analisi del Dataset\n",
        "Lo scopo di questa sezione di codice è di studiare la distribuzione del dataset con l'obbiettivo di compiere alcune analisi preliminari che consentano di selezionare i modelli più appropriati da addestrare.\n",
        "\n",
        "- **[data_dir, train_path, test_path, augmented_path]** sono i percorsi delle directory in cui si trovano rispettivamente i file del progetto, le immagini di training, di test, e le immagini create con le tecniche di Data Augmentation.\n",
        "\n",
        "- **[classes]** è un dizionario che associa ad ogni indice delle cartelle di Training il rispettivo nome della categoria (classe).\n",
        "\n",
        "Gli **istogrammi** di sotto danno un'idea di come siano distribuiti i vari esempi del training set e del test set. Questi ultimi vanno a riportare infatti il numero di esempi di training e di test per ognuna delle 43 classi. \n",
        "\n",
        "Risulta interessante notare come la distribuzione del test set sia tutto sommato abbastanza vicina a quella del training set (nonostante alcune anomalie), il che è alquanto importante per compiere dei test che siano statisticamente affidabili.\n",
        "\n",
        "# Metrica\n",
        "Con riferimento allo sbilanciamento dei Dataset, si è scelto di addottare come metrica di riferimento l'***average-weighted F1-Score***.\n",
        "\n",
        "L'*F1-Score* non è che altro che la media armonica di *Precision* e *Recall* (si è scelto di non provilegiare nessuna delle due dato che non è di nostro interesse minimizzare il *false positive rate* né il *false negative rate*):\n",
        "\n",
        "$F1 = \\frac{2*Precision*Recall}{Precision+Recall} = \\frac{2*TP}{2*TP+FP+FN}$\n",
        "\n",
        "Poiché si tratta di una metrica pensata per la classificazione binaria, l'F1-Score viene calcolato in modalità *OneVsAll* per ciascuna classe del dataset, dopodiché si determina la media pesata di questi 43 valori di F1 sulla distribuzione del training set (oppure su quella del test set, se stiamo valutando le performance su quest'ultimo).\n",
        "  "
      ],
      "metadata": {
        "id": "9Y0pH658lsIt"
      }
    },
    {
      "cell_type": "code",
      "source": [
        "images = None; labels = None; x_train = None; x_test = None; y_train = None; y_test = None; input_shape = None; aug = None"
      ],
      "metadata": {
        "id": "pIrLYaqFPbN_"
      },
      "execution_count": null,
      "outputs": []
    },
    {
      "cell_type": "code",
      "source": [
        "data_dir = 'Desktop/progetto/archive'     # Path di root\n",
        "train_path = data_dir + '/Train'          # Path di training\n",
        "test_path = data_dir + '/Test'            # Path di test\n",
        "augmented_path=data_dir + '/Augmented'    # Path per data augmentation"
      ],
      "metadata": {
        "id": "Y_x_uI3JV_9w"
      },
      "execution_count": null,
      "outputs": []
    },
    {
      "cell_type": "code",
      "source": [
        "# Numero di classi = Numero di subdirectory nella cartella di training\n",
        "NUM_CATEGORIES = len(os.listdir(train_path)) \n",
        "\n",
        "# Etichette delle classi\n",
        "classes = { 0:'Speed limit (20km/h)',\n",
        "            1:'Speed limit (30km/h)', \n",
        "            2:'Speed limit (50km/h)', \n",
        "            3:'Speed limit (60km/h)', \n",
        "            4:'Speed limit (70km/h)', \n",
        "            5:'Speed limit (80km/h)', \n",
        "            6:'End of speed limit (80km/h)', \n",
        "            7:'Speed limit (100km/h)', \n",
        "            8:'Speed limit (120km/h)', \n",
        "            9:'No passing', \n",
        "            10:'No passing veh over 3.5 tons', \n",
        "            11:'Right-of-way at intersection', \n",
        "            12:'Priority road', \n",
        "            13:'Yield', \n",
        "            14:'Stop', \n",
        "            15:'No vehicles', \n",
        "            16:'Veh > 3.5 tons prohibited', \n",
        "            17:'No entry', \n",
        "            18:'General caution', \n",
        "            19:'Dangerous curve left', \n",
        "            20:'Dangerous curve right', \n",
        "            21:'Double curve', \n",
        "            22:'Bumpy road', \n",
        "            23:'Slippery road', \n",
        "            24:'Road narrows on the right', \n",
        "            25:'Road work', \n",
        "            26:'Traffic signals', \n",
        "            27:'Pedestrians', \n",
        "            28:'Children crossing', \n",
        "            29:'Bicycles crossing', \n",
        "            30:'Beware of ice/snow',\n",
        "            31:'Wild animals crossing', \n",
        "            32:'End speed + passing limits', \n",
        "            33:'Turn right ahead', \n",
        "            34:'Turn left ahead', \n",
        "            35:'Ahead only', \n",
        "            36:'Go straight or right', \n",
        "            37:'Go straight or left', \n",
        "            38:'Keep right', \n",
        "            39:'Keep left', \n",
        "            40:'Roundabout mandatory', \n",
        "            41:'End of no passing', \n",
        "            42:'End no passing veh > 3.5 tons' }\n",
        "\n",
        "\n",
        "folders = os.listdir(train_path)    # Lista delle subdirectory contenute in Train\n",
        "train_number = []                   # Lista che conterrà il numero di esempi per ciascuna classe\n",
        "class_num = []                      # Lista che conterrà il nome associato ad ogni classe\n",
        "\n",
        "for folder in folders:                                  # Per ogni cartella:\n",
        "    train_files = os.listdir(train_path + '/' + folder) # Si estrae n° di elementi di quest'ultima\n",
        "    train_number.append(len(train_files))               # Si aggiunge alla lista train_number\n",
        "    class_num.append(classes[int(folder)])              # Si aggiunge il nome della classe alla lista class_num\n",
        "\n",
        "train_number = np.array(train_number) # Conversione in numpy array\n",
        "\n",
        "# Si disegna l'istogramma che rappresenta il numero di esempi per ogni classe del training set\n",
        "print(\"Distribuzione Training Set\")\n",
        "plt.figure(figsize=(18,8))\n",
        "plt.bar(class_num, train_number)\n",
        "plt.xticks(class_num, rotation='vertical')\n",
        "plt.show()\n",
        "\n",
        "# Si determina la distribuzione di probabilità delle classi del training set\n",
        "# dividendo il numero di esempi di ogni classe per il numero di esempi totali\n",
        "distr_train = np.divide(train_number,np.sum(train_number))\n",
        "\n",
        "\n",
        "test_number = np.zeros(NUM_CATEGORIES)        # Inizializzazione array train_number\n",
        "df = pd.read_csv (data_dir + '/Test.csv')     # Caricamento csv di test\n",
        "test_labels = df['ClassId'].tolist()          # Caricamento della colonna contenente le classi di test\n",
        "for i in test_labels:                         \n",
        "  test_number[i] = test_number[i] + 1         # Conteggio del numero di elementi di ogni classe\n",
        "\n",
        "# Si disegna l'istogramma che rappresenta il numero di esempi per ogni classe del test set\n",
        "print(\"Distribuzione Test Set\")\n",
        "plt.figure(figsize=(18,8))\n",
        "plt.bar(class_num, test_number)\n",
        "plt.xticks(class_num, rotation='vertical')\n",
        "plt.show()\n",
        "\n",
        "# Si determina la distribuzione di probabilità delle classi del training set\n",
        "# dividendo il numero di esempi di ogni classe per il numero di esempi totali\n",
        "distr_test = np.divide(test_number,np.sum(test_number))"
      ],
      "metadata": {
        "colab": {
          "base_uri": "https://localhost:8080/"
        },
        "id": "I7G3KiuGSBYe",
        "outputId": "8abb8589-3e44-4cc0-be52-8c7a0613e017"
      },
      "execution_count": null,
      "outputs": [
        {
          "output_type": "stream",
          "name": "stdout",
          "text": [
            "Distribuzione Training Set\n"
          ]
        },
        {
          "output_type": "display_data",
          "data": {
            "text/plain": [
              "<Figure size 1296x576 with 1 Axes>"
            ],
            "image/png": "[encoded data removed]"
          },
          "metadata": {
            "needs_background": "light"
          }
        },
        {
          "output_type": "stream",
          "name": "stdout",
          "text": [
            "Distribuzione Test Set\n"
          ]
        },
        {
          "output_type": "display_data",
          "data": {
            "text/plain": [
              "<Figure size 1296x576 with 1 Axes>"
            ],
            "image/png": "[encoded data removed]"
          },
          "metadata": {
            "needs_background": "light"
          }
        }
      ]
    },
    {
      "cell_type": "markdown",
      "source": [
        "# Funzioni utili\n",
        "- **load_train_data(...)** è una funzione che carica ciascuna immagine del dataset di training e la converte in un array tridimensionale. Ogni immagine viene dunque inserita in una lista in questa forma, inoltre viene creata una seconda lista che contiene la categoria (numerica) di ogni esempio nello stesso ordine. Questa funzione è in grado inoltre di caricare immagini di cui è stato fatto Data Augmentation a seconda del valore del flag *augmented*.\n",
        "\n",
        "- **load_test_data(...)** è una funzione che carica ciascuna immagine del dataset di test e la converte in un array tridimensionale. Ogni immagine viene dunque inserita in una lista in questa forma, inoltre viene creata una seconda lista che contiene la categoria (numerica) di ogni esempio nello stesso ordine.\n",
        "\n",
        "- **init_data(...)** è una funzione che:\n",
        "  - richiama *load_train_data()* e *load_test_data()* per effettuare il caricamento delle immagini\n",
        "\n",
        "  - mescola le immagini di training e di test in maniera casuale in modo da velocizzare il più possibile l'addestramento\n",
        "\n",
        "  - converte ogni categoria numerica in *one-hot encoding*\n",
        "\n",
        "  - normalizza ogni pixel dividendo per il valore massimo (255)\n",
        "\n",
        "  - stabilisce la dimensione che le reti utilizzeranno per l'addestramento sulla base della dimensione delle immagini che sono state appena caricate in memoria.\n",
        "\n",
        "- **do_data_augmentation(...)** è una funzione in grado di effettuare data augmentation per ogni immagine del training set. In particolare per ogni immagine applica un ribaltamento e una piccola rotazione casuale e la salva nella directory Augmented/*i*x*j* dove *i* e *j* sono le dimensioni delle immagini di output. Questa funzione, in combinazione col flag *augmented* settato a True permette di raddoppiare il numero di esempi di addestramento, generando una nuova immagine per ogni pattern di training.\n",
        "Esempi di utilizzo: \n",
        "\n",
        "```\n",
        "do_data_augmentation(30,30) ---> applica data augmentation ad ogni esempio di training e crea immagini 30x30 che verranno salvate in \"Augmented/30x30\"\n",
        "do_data_augmentation(32,32) ---> applica data augmentation ad ogni esempio di training e crea immagini 30x30 che verranno salvate in \"Augmented/32x32\"\n",
        "do_data_augmentation(75,75) ---> applica data augmentation ad ogni esempio di training e crea immagini 30x30 che verranno salvate in \"Augmented/75x75\"\n",
        "```\n",
        "\n",
        "\n",
        "\n",
        "- **plot_results(...)** è una funzione che permette di visualizzare l'andamento grafico delle metriche epoca per epoca una volta concluse tutte le epoche di addestramento. In particolar modo in questa istanza vogliamo visualizzare: l'andamento della Loss, l'andamento dell'F1-Score pesato sulla distribuzione del dataset, l'andamento dell'accuracy e della validation accuracy e il grafico precision-recall.\n",
        "\n",
        "- **compile_train_evaluate(...)** è una funzione che, ricevuto in input un modello esegue le operazioni di compiling, training e testing dello stesso. Oltre a stampare alcune caratteristiche del modello che verrà addestrato, lo compila secondo le metriche specificate in *metrics*, lo addestra utilizzando il set di iperparametri desiderato, ed infine ne valuta le performance sfruttando il test set e stampando i risultati ed i grafici ottenuti.\n",
        "  "
      ],
      "metadata": {
        "id": "hMvzIY8ntOek"
      }
    },
    {
      "cell_type": "code",
      "source": [
        "# IMG_HEIGHT: altezza dell'immagine\n",
        "# IMG_WIDTH: larghezza dell'immagine\n",
        "# augmented: flag per caricamento augmented data\n",
        "def load_train_data(IMG_HEIGHT, IMG_WIDTH, augmented):\n",
        "    # Creazione liste per caricamento immagini e relative etichette del training set\n",
        "    images = list()\n",
        "    labels = list()\n",
        "\n",
        "    # num_iter=1 --> caricamento solo del training set\n",
        "    # num_iter=2 --> caricamento del training set + augmented data\n",
        "    num_iter=1\n",
        "    if augmented:\n",
        "        num_iter=2\n",
        "    path=train_path # Path del training set, di default\n",
        "\n",
        "    for i in range(num_iter):\n",
        "        # Se inizia la seconda iterazione si cambia il path in quello degli augmented data\n",
        "        if augmented and i==1:\n",
        "            path=augmented_path+'/'+str(IMG_HEIGHT)+'x'+str(IMG_WIDTH) # Cambio directory\n",
        "        for category in range(NUM_CATEGORIES):\n",
        "            categories = os.path.join(path, str(category))    # Aggiunge al path il nome della directory in cui leggere le immagini della classe\n",
        "            for img in os.listdir(categories):                # Per ogni immagine all'interno della classe:\n",
        "                # Viene caricata l'immagine come jpg della dimensione specificata\n",
        "                img = load_img(os.path.join(categories, img), target_size=(IMG_HEIGHT, IMG_WIDTH))\n",
        "                # Si converte l'immagine in array tridimensionale\n",
        "                image = img_to_array(img)\n",
        "                # Si aggiunge l'immagine convertita in coda alla lista delle immagini\n",
        "                images.append(image)\n",
        "                # Si aggiunge la relativa etichetta in coda alla lista delle label\n",
        "                labels.append(category)\n",
        "                \n",
        "    return images, labels"
      ],
      "metadata": {
        "id": "CAttKczdXz7V"
      },
      "execution_count": null,
      "outputs": []
    },
    {
      "cell_type": "code",
      "source": [
        "# IMG_HEIGHT: altezza dell'immagine\n",
        "# IMG_WIDTH: larghezza dell'immagine\n",
        "def load_test_data(IMG_HEIGHT, IMG_WIDTH):\n",
        "  df = pd.read_csv (data_dir + '/Test.csv')     # Caricamento del csv di test\n",
        "  test_images = list()                          # Creazione lista immagini di test\n",
        "  test_labels = df['ClassId'].tolist()          # Lettura della colonna delle label di test\n",
        "  for img in os.listdir(test_path):             # Per ogni immagine all'interno del path di test\n",
        "    # Viene caricata l'immagine come jpg della dimensione specificata\n",
        "    img = load_img(os.path.join(test_path, img), target_size=(IMG_HEIGHT, IMG_WIDTH))\n",
        "    # Si converte l'immagine in array tridimensionale\n",
        "    image = img_to_array(img)\n",
        "    # Si aggiunge l'immagine convertita in coda alla lista delle immagini\n",
        "    test_images.append(image)\n",
        "    \n",
        "  return test_images, test_labels"
      ],
      "metadata": {
        "id": "q88OBqJXHEG9"
      },
      "execution_count": null,
      "outputs": []
    },
    {
      "cell_type": "code",
      "source": [
        "# h: altezza dell'immagine\n",
        "# w: larghezza dell'immagine\n",
        "# augmented: flag per caricamento augmented data\n",
        "def init_data(h,w, augmented):\n",
        "  print(\"Caricamento immagini dal dataset...\\n\")   \n",
        "\n",
        "  train_images, train_labels = load_train_data(h,w,augmented)     # Caricamento delle immagini di train e delle rispettive label\n",
        "  train_labels = to_categorical(train_labels)                     # Conversione delle label in one-hot encoding\n",
        "\n",
        "  # Si mescolano gli esempi e le rispettive label del training set simultaneamente per evitare che la rete\n",
        "  # impari a generalizzare su esempi nell'ordine in cui sono presentati nel dataset\n",
        "  x_train, y_train = shuffle(np.array(train_images), train_labels, random_state=0)\n",
        "\n",
        "  test_images, test_labels = load_test_data(h,w)                  # Caricamento delle immagini di test e delle rispettive label\n",
        "  test_labels = to_categorical(test_labels)                       # Conversione delle label in one-hot encoding\n",
        "  # Si mescolano gli esempi e le rispettive label del test set simultaneamente\n",
        "  x_test, y_test = shuffle(np.array(test_images), test_labels, random_state=0)\n",
        "\n",
        "  x_train/=255              # Normalizzazione nel range [0,1] dei pixel del trainin set\n",
        "  x_test/=255               # Normalizzazione nel range [0,1] dei pixel del test set\n",
        "  input_shape=(h, w, 3)     # Definizione della dimensione dell'input di ogni rete\n",
        "\n",
        "  return (images, labels, x_train, x_test, y_train, y_test, input_shape)"
      ],
      "metadata": {
        "id": "gRnZ2nFVYcX3"
      },
      "execution_count": null,
      "outputs": []
    },
    {
      "cell_type": "code",
      "source": [
        "# h: altezza dell'immagine\n",
        "# w: larghezza dell'immagine\n",
        "# ATTENZIONE: da eseguirsi singolarmente come descritto nelle note relative al \"Main\"\n",
        "def do_data_augmentation(h,w):\n",
        "    # Caricamento delle immagini del dataset tranne quelle con data augmentation\n",
        "    images, labels, x_train, x_test, y_train, y_test, input_shape = init_data(h,w,False)\n",
        "\n",
        "    # Creazione subdirectory \"h x w\"\n",
        "    path = augmented_path+'/'+str(h)+'x'+str(w)\n",
        "    os.mkdir(path) \n",
        "\n",
        "    # Si creano le directory da 0 a 42 per contenere i pattern di data augmentation\n",
        "    for i in range(NUM_CATEGORIES):\n",
        "        os.mkdir(path+\"/\"+str(i))\n",
        "\n",
        "    # Modello per fare data augmentation\n",
        "    data_augmentation = tf.keras.Sequential([\n",
        "                # Si capovolge l'immagine orizzontalmente o verticalmente in maniera casuale\n",
        "                layers.RandomFlip(\"horizontal_and_vertical\"), \n",
        "                # Si applica una rotazione casuale\n",
        "                layers.RandomRotation(0.2)])\n",
        "    \n",
        "    for i in range(len(x_train)):\n",
        "        # Ogni immagine viene espansa di dimensione, modificata con il modello di data augmentation,\n",
        "        # convertita in array, e poi salvata con un nome che segue l'indice del ciclo\n",
        "        image_aug = tf.expand_dims(x_train[i], 0)\n",
        "        augmented_image = data_augmentation(image_aug)\n",
        "        img_array = img_to_array(augmented_image[0])\n",
        "        save_img(path+'/{0}/{1}.png'.format(np.argmax(y_train[i]),i),img_array)\n",
        "        print(str(i)+ \"   \"+ str(np.argmax(y_train[i])))"
      ],
      "metadata": {
        "id": "6Fj6XGRAVB2f"
      },
      "execution_count": null,
      "outputs": []
    },
    {
      "cell_type": "code",
      "source": [
        "# history: history del modello addestrato\n",
        "def plot_results(history):\n",
        "  # Dimensione della figura contenente la griglia\n",
        "  plt.figure(figsize=(21,5))\n",
        "\n",
        "  # All'interno della figura si definisce una griglia 1x3 dove con gli indici:\n",
        "  # 1 --> si indicizza il grafico della funzione di loss\n",
        "  # 2 --> si indicizza il grafico dell'f1-score di training e validation\n",
        "  # 3 --> si indicizza il grafico della accuracy di training e validation\n",
        "\n",
        "  plt.subplot(1,3,1)\n",
        "  plt.plot(history.history['loss'], color='r')\n",
        "  plt.title('Loss')\n",
        "  plt.ylabel('Loss')\n",
        "  plt.xlabel('Epoch')\n",
        "  plt.legend(['Loss'], loc='upper left')\n",
        "\n",
        "  plt.subplot(1,3,2)\n",
        "  # Valore medio pesato (in base alla distribuzione del training set) dell'f1-score\n",
        "  # OneVsAll di ogni classe per ogni epoca:\n",
        "  f1score_avg = np.zeros(history.params['epochs'])      # - Per l'addestramento\n",
        "  f1score_avg_val = np.zeros(history.params['epochs'])  # - Per il validation\n",
        "  for i in range(history.params['epochs']):             # Per ogni epoca:\n",
        "    # Estraggo array di f1-score OneVsAll di ogni classe in fase di training\n",
        "    current = history.history['f1_score'][i]\n",
        "    # Determino il valore medio pesato dell'f1-score di training nella corrispondente epoca\n",
        "    f1score_avg[i] = np.average(np.array(current),weights = distr_train)\n",
        "    # Estraggo array di f1-score OneVsAll di ogni classe in fase di validation\n",
        "    current_val = history.history['val_f1_score'][i]\n",
        "    # Determino il valore medio pesato dell'f1-score di validation nella corrispondente epoca\n",
        "    f1score_avg_val[i] = np.average(np.array(current_val),weights = distr_train)\n",
        "  plt.plot(f1score_avg, color='orange')\n",
        "  plt.plot(f1score_avg_val, color='m')\n",
        "  plt.title('F1Score')\n",
        "  plt.ylabel('F1Score')\n",
        "  plt.xlabel('Epoch')\n",
        "  plt.legend(['Train', 'Validation'], loc='upper left')\n",
        "\n",
        "  plt.subplot(1,3,3)\n",
        "  plt.plot(history.history['accuracy'], color='g')\n",
        "  plt.plot(history.history['val_accuracy'], color='b')\n",
        "  plt.title('Accuracy')\n",
        "  plt.ylabel('Accuracy')\n",
        "  plt.xlabel('Epoch')\n",
        "  plt.legend(['Train', 'Validation'], loc='upper left')\n",
        "\n",
        "  # Corregge la posizione relativa dei grafici\n",
        "  plt.subplots_adjust(left=0.1,bottom=0.1, right=0.9, top=0.9, wspace=0.4, hspace=0.4)\n",
        "  \n",
        "  plt.show()"
      ],
      "metadata": {
        "id": "V8ff2d_mXOYt"
      },
      "execution_count": null,
      "outputs": []
    },
    {
      "cell_type": "code",
      "source": [
        "# model: modello da compilare, addestrare e testare\n",
        "# current_params: dizionario contenente il set di iperparametri scelto\n",
        "# name: stringa contenenete il nome del modello\n",
        "def compile_train_evaluate(model, current_params, name):\n",
        "  # Si stampa:\n",
        "  # 1) il nome del modello\n",
        "  # 2) Se si utilizza data augmentation o meno\n",
        "  # 3) il set di iperparametri corrente\n",
        "  # 4) informazioni specifiche sull'ottimizzatore scelto\n",
        "  print(name)\n",
        "  print(\"Data Augmentation: \" + str(aug))\n",
        "  print(\"Iperparametri: [epochs: {0}, loss: {1}, batch_size: {2}, validation_split: {3}]\".format(current_params[\"epochs\"],current_params[\"loss\"],current_params[\"batch_size\"],current_params[\"validation_split\"]))\n",
        "  opt = current_params[\"optimizer\"]\n",
        "  print(\"Ottimizzatore: \"+ str(serialize(opt)))\n",
        "\n",
        "\n",
        "  # Calcolo e stampa del numero di paramentri addestrabili, non addestrabili e totali\n",
        "  trainableParams = np.sum([np.prod(v.get_shape()) for v in model.trainable_weights])\n",
        "  nonTrainableParams = np.sum([np.prod(v.get_shape()) for v in model.non_trainable_weights])\n",
        "  totalParams = trainableParams + nonTrainableParams\n",
        "  print(\"Parametri addestrabili: \" + str(trainableParams))\n",
        "  print(\"Parametri non addestrabili: \" + str(nonTrainableParams))\n",
        "  print(\"Parametri totali: \" + str(totalParams) + '\\n')\n",
        "\n",
        "  # Compilazione del modello con il set di iperparametri scelti\n",
        "  model.compile(loss=current_params[\"loss\"],optimizer=current_params[\"optimizer\"],metrics=metrics)\n",
        "  # Addestramento del modello e salvataggio dello storico\n",
        "  history = model.fit(x_train, y_train,validation_split=current_params[\"validation_split\"],epochs=current_params[\"epochs\"],callbacks=current_params[\"callback\"])\n",
        "  # Testing del modello e salvataggio delle metriche\n",
        "  loss, f1score, accuracy, precision, recall = model.evaluate(x_test, y_test)\n",
        "  # Media pesata dell'array OneVSAll f1-score rispetto alla ditribuzione di probabilità del test set\n",
        "  f1score_avg = np.average(np.array(f1score), weights = distr_test) \n",
        "  # Stampa dei risultati di test\n",
        "  print('test set f1_score avg-weighted: ', f1score_avg) \n",
        "  print('test set accuracy: ', accuracy * 100)\n",
        "  print('test set precision: ', precision * 100)\n",
        "  print('test set recall: ', recall * 100)\n",
        "  # Plot dei grafici\n",
        "  plot_results(history)\n",
        "  print('\\n')"
      ],
      "metadata": {
        "id": "bLbPzxyYJNpx"
      },
      "execution_count": null,
      "outputs": []
    },
    {
      "cell_type": "markdown",
      "source": [
        "# Modelli\n",
        "Segue l'elenco dei modelli testati (tra parentesi è indicato il numero identificativo del modello corrispondente):\n",
        "- **MyNetwork (1):** \n",
        "Si tratta di una semplice CNN costituita da tre livelli convoluzionali, di cui i primi due seguiti da Max Pooling 2x2 e Dropout.\n",
        "Si utilizzano 32 filtri per il primo livello di convoluzione, e 64 per gli ultimi due, con kernel 3x3. Come funzione di attivazione viene sempre utilizzata la ReLU.\n",
        "Seguono infine due layer fully-connected rispettivamente da 64 e poi 43 neuroni, il cui ultimo livello permette di ottenere le distibuzioni di probabilità delle classi utilizzando SoftMax come attivazione.\n",
        "\n",
        "- **MyNetworkDeeper (2):** \n",
        "Si tratta di una CNN simile a *MyNetwork*, la cui capacità è stata aumentata per poter gestire meglio un dataset al quale viene applicato Data Augmentation. Risulta costituita da quattro livelli convoluzionali, di cui i primi tre seguiti da Max Pooling 2x2 e Dropout.\n",
        "Si utilizzano 32 filtri per il primo livello di convoluzione, 64 per il secondo e 128 per gli ultimi due, con kernel 3x3. Come funzione di attivazione viene sempre utilizzata la ReLU.\n",
        "Seguono infine due layer fully-connected rispettivamente da 128 e poi 43 neuroni, il cui ultimo livello permette di ottenere le distibuzioni di probabilità delle classi utilizzando SoftMax come attivazione.\n",
        "Rispetto a *MyNetwork*, questo modello applica padding (\"same\") ai primi 3 livelli convoluzionali, in maniera tale da restringere la dimensione delle feature map solo attraverso il padding.\n",
        "\n",
        "- **VGG16_net (100):** \n",
        "Si tratta di una VGG16 pre-addestrata per tutti i livelli convoluzionali su ImageNet. Si utilizza questo modello per effettuare Transfer Learning, eliminando i layer fully-connected della VGG16 e aggiungendo:\n",
        "  - un livello fully-connected da 1000 neuroni con ReLU\n",
        "  - un livello di Batch-Normalization\n",
        "  - un livello fully-connected da 256 neuroni con ReLU\n",
        "  - un livello fully-connected (di output) da 43 neuroni con SoftMax\n",
        "\n",
        "- **VGG19_net (200):**\n",
        "Si tratta di una VGG19 pre-addestrata per tutti i livelli convoluzionali su ImageNet. Si utilizza questo modello per effettuare Transfer Learning, eliminando i layer fully-connected della VGG19 e aggiungendo:\n",
        "  - un livello fully-connected da 1000 neuroni con ReLU\n",
        "  - un livello di Batch-Normalization\n",
        "  - un livello fully-connected da 256 neuroni con ReLU\n",
        "  - un livello fully-connected (di output) da 43 neuroni con SoftMax\n",
        "\n",
        "- **ResNet50V2_net (300):**\n",
        "Si tratta di una ResNet50V2 pre-addestrata per tutti i livelli convoluzionali su ImageNet. Si utilizza questo modello per effettuare Transfer Learning, eliminando i layer fully-connected della ResNet e aggiungendo:\n",
        "  - un livello fully-connected da 1000 neuroni con ReLU\n",
        "  - un livello fully-connected (di output) da 43 neuroni con SoftMax\n",
        "\n",
        "- **InceptionV3_net (400):**\n",
        "Si tratta di una InceptionV3 pre-addestrata per tutti i livelli convoluzionali su ImageNet. Si utilizza questo modello per effettuare Transfer Learning, eliminando i layer fully-connected della Inception e aggiungendo:\n",
        "  - un livello di Dropout con rate 0,5\n",
        "  - un livello fully-connected da 1000 neuroni con ReLU\n",
        "  - un livello fully-connected (di output) da 43 neuroni con SoftMax\n",
        "\n",
        "Ogni metodo riceve in ingresso un numero variabile di elementi che rappresentano i diversi set di iperparametri che è necessario testare.\n",
        "  "
      ],
      "metadata": {
        "id": "A5L3-jqhzvsC"
      }
    },
    {
      "cell_type": "code",
      "source": [
        "# h_params: lista delle posizioni dei set di iperparamentri da testare\n",
        "def my_network(*h_params):\n",
        "\n",
        "  name=\"Model Name: MyNetwork\"\n",
        "\n",
        "  for pos_dict in h_params:\n",
        "    \n",
        "    model = Sequential()\n",
        "\n",
        "    model.add(Conv2D(filters=32, kernel_size=3, activation='relu', input_shape=input_shape))\n",
        "    model.add(MaxPool2D(pool_size=(2, 2)))\n",
        "    model.add(Dropout(rate=0.25))\n",
        "\n",
        "    model.add(Conv2D(filters=64, kernel_size=3, activation='relu'))\n",
        "    model.add(MaxPool2D(pool_size=(2, 2)))\n",
        "    model.add(Dropout(rate=0.25))\n",
        "\n",
        "    model.add(Conv2D(filters=64, kernel_size=3, activation='relu'))\n",
        "\n",
        "    model.add(Flatten())\n",
        "\n",
        "    model.add(Dense(units=64, activation='relu'))\n",
        "    model.add(Dense(NUM_CATEGORIES, activation='softmax'))\n",
        "\n",
        "    current_params = hyp_set[pos_dict]\n",
        "    compile_train_evaluate(model, current_params,name)"
      ],
      "metadata": {
        "id": "2mmw2F48R8A2"
      },
      "execution_count": null,
      "outputs": []
    },
    {
      "cell_type": "code",
      "source": [
        "# h_params: lista delle posizioni dei set di iperparamentri da testare\n",
        "def my_network_deeper(*h_params):\n",
        "\n",
        "  name=\"Model Name: MyNetworkDeeper\"\n",
        "\n",
        "  for pos_dict in h_params:\n",
        "    \n",
        "    model = Sequential()\n",
        "\n",
        "    model.add(Conv2D(filters=32, kernel_size=3, activation='relu', input_shape=input_shape, padding='same'))\n",
        "    model.add(MaxPool2D(pool_size=(2, 2)))\n",
        "    model.add(Dropout(rate=0.25))\n",
        "\n",
        "    model.add(Conv2D(filters=64, kernel_size=3, activation='relu', padding='same'))\n",
        "    model.add(MaxPool2D(pool_size=(2, 2)))\n",
        "    model.add(Dropout(rate=0.25))\n",
        "\n",
        "    model.add(Conv2D(filters=128, kernel_size=3, activation='relu', padding='same'))\n",
        "    model.add(MaxPool2D(pool_size=(2, 2)))\n",
        "    model.add(Dropout(rate=0.25))\n",
        "\n",
        "    model.add(Conv2D(filters=128, kernel_size=3, activation='relu'))\n",
        "\n",
        "    model.add(Flatten())\n",
        "\n",
        "    model.add(Dense(units=128, activation='relu'))\n",
        "    model.add(Dense(NUM_CATEGORIES, activation='softmax'))\n",
        "\n",
        "    current_params = hyp_set[pos_dict]\n",
        "    compile_train_evaluate(model, current_params,name)"
      ],
      "metadata": {
        "id": "fkQo4m3geGkA"
      },
      "execution_count": null,
      "outputs": []
    },
    {
      "cell_type": "code",
      "source": [
        " # h_params: lista delle posizioni dei set di iperparamentri da testare\n",
        " def VGG16_net(*h_params):\n",
        "   \n",
        "   name=\"Model Name: VGG16\"\n",
        "   \n",
        "   for pos_dict in h_params:\n",
        "\n",
        "      base_model=VGG16(weights='imagenet', include_top=False, input_shape=input_shape)\n",
        "\n",
        "      model=Sequential([\n",
        "          base_model,\n",
        "        Flatten(),\n",
        "        Dense(1000, activation='relu'),\n",
        "        BatchNormalization(),\n",
        "        Dense(256, activation='relu'),\n",
        "        Dense(units=NUM_CATEGORIES, activation='softmax')\n",
        "      ])\n",
        "      \n",
        "      for layer in base_model.layers:\n",
        "          layer.trainable = False\n",
        "          \n",
        "      current_params = hyp_set[pos_dict]\n",
        "      compile_train_evaluate(model, current_params,name)"
      ],
      "metadata": {
        "id": "X0AXHZifeGu_"
      },
      "execution_count": null,
      "outputs": []
    },
    {
      "cell_type": "code",
      "source": [
        " # h_params: lista delle posizioni dei set di iperparamentri da testare\n",
        " def VGG19_net(*h_params):\n",
        "   \n",
        "   name=\"Model Name: VGG19\"\n",
        "   \n",
        "   for pos_dict in h_params:\n",
        "      base_model=VGG19(weights='imagenet', include_top=False, input_shape=input_shape)\n",
        "      model=Sequential([\n",
        "          base_model,\n",
        "        Flatten(),\n",
        "        Dense(1000, activation='relu'),\n",
        "        BatchNormalization(),\n",
        "        Dense(256, activation='relu'),\n",
        "        Dense(units=NUM_CATEGORIES, activation='softmax')\n",
        "      ])\n",
        "      \n",
        "      for layer in base_model.layers:\n",
        "          layer.trainable = False\n",
        "          \n",
        "      current_params = hyp_set[pos_dict]\n",
        "      compile_train_evaluate(model, current_params,name)"
      ],
      "metadata": {
        "id": "uFi0rXTpWhHx"
      },
      "execution_count": null,
      "outputs": []
    },
    {
      "cell_type": "code",
      "source": [
        " # h_params: lista delle posizioni dei set di iperparamentri da testare\n",
        " def ResNet50V2_net(*h_params):\n",
        "   \n",
        "   name=\"Model Name: ResNet50V2\"\n",
        "   \n",
        "   for pos_dict in h_params:\n",
        "      base_model=ResNet50V2(weights='imagenet', include_top=False, input_shape=input_shape)\n",
        "      model=Sequential([\n",
        "          base_model,\n",
        "        Flatten(),\n",
        "        Dense(1000, activation='relu'),\n",
        "        Dense(units=NUM_CATEGORIES, activation='softmax')\n",
        "      ])\n",
        "      \n",
        "      for layer in base_model.layers:\n",
        "          layer.trainable = False\n",
        "          \n",
        "      current_params = hyp_set[pos_dict]\n",
        "      compile_train_evaluate(model, current_params,name)"
      ],
      "metadata": {
        "id": "kH_gaA-Caij2"
      },
      "execution_count": null,
      "outputs": []
    },
    {
      "cell_type": "code",
      "source": [
        " # h_params: lista delle posizioni dei set di iperparamentri da testare\n",
        " def InceptionV3_net(*h_params):\n",
        "   \n",
        "   name=\"Model Name: InceptionV3\"\n",
        "   \n",
        "   for pos_dict in h_params:\n",
        "      base_model=InceptionV3(weights='imagenet', include_top=False, input_shape=input_shape)\n",
        "      model=Sequential([\n",
        "          base_model,\n",
        "        Flatten(),\n",
        "        Dropout(0.5),\n",
        "        Dense(1000, activation='relu'),\n",
        "        Dense(units=NUM_CATEGORIES, activation='softmax')\n",
        "      ])\n",
        "\n",
        "      for layer in base_model.layers:\n",
        "          layer.trainable = False\n",
        "          \n",
        "      current_params = hyp_set[pos_dict]\n",
        "      compile_train_evaluate(model, current_params,name)"
      ],
      "metadata": {
        "id": "_PmApRUwcvKR"
      },
      "execution_count": null,
      "outputs": []
    },
    {
      "cell_type": "markdown",
      "source": [
        "# Main\n",
        "Questa sezione di codice contiene tutti i principali parametri su cui è necessario intervenire per addestrare e testare le performance di diverse reti in cascata. In particolare le sclete più importanti di addestramento devono essere fatte su:\n",
        "\n",
        "- **[models_to_run]** è una lista di interi dove ciascun numero è associato ad un modello diverso da testare. I modelli vengono dunque addestrati e testati \n",
        "  nella sequenza specificata utilizzando vari set di iperparametri che verrano\n",
        "  elencati nella lista [hyp_set].\n",
        "\n",
        "  I numeri delle reti sono raggruppati nel seguente modo:\n",
        "\n",
        "  - Reti 1-99 : *modelli custom*\n",
        "\n",
        "  - Reti 100-199 : *modelli VGG16*\n",
        "\n",
        "  - Reti 200-299 : *modelli VGG19*\n",
        "\n",
        "  - Reti 300-399 : *modelli ResNet50V2*\n",
        "\n",
        "  - Reti 400-499 : *modelli InceptionV3*\n",
        "  \n",
        "  È possibile conoscere l' identificativo di ogni modello controllando il numero indicato tra parentesi nella descrizione del modello stesso.\n",
        "\n",
        "```\n",
        "***IMPORTANTE*** \n",
        "- Inserendo il segno meno \"-\" davanti al numero del modello, quest'ultimo verrà testato senza caricare le immagini costruite con le tecniche di\n",
        "Data Augmentation descritte precedentemente.\n",
        "- Inserendo il segno più \"+\" davanti al numero del modello (oppure non inserendo nessun segno), quest'ultimo verrà testato caricando le immagini \n",
        "costruite con le tecniche di Data Augmentation descritte precedentemente.\n",
        "\n",
        "ESEMPI:\n",
        "models_to_run = [-1] # Testo MyNetwork senza Data Augmentation\n",
        "models_to_run = [1] # Testo MyNetwork con Data Augmentation\n",
        "models_to_run = [-100,100] # Testo VGG16_net due volte in sequenza, senza e poi con DataAugmentation\n",
        "```\n",
        "\n",
        "\n",
        "\n",
        "- **[hyp_set]** è una lista di dizionari in cui ogni entry rappresenta un iperparametro e il relativo valore associato. Di conseguenza è possibile addestrare lo stesso modello in sequenza su set di iperparametri diversi. Ogni set è associato ad un indice (quello della lista) a partire da 0.\n",
        "\n",
        "- **[metrics]** è la lista delle metriche che verranno stampate durante \n",
        "l'addestramento dei modelli. Si rimanda alla sezione *Metrica* per la presentazione di quella che abbiamo scelto come riferimento per valutare la bontà dei modelli: l'*average-weighthed F1-Score*.\n",
        "\n",
        "  \n",
        "Infine in questa parte di codice avviene il *binding* tra il numero intero che rappresenta il modello e la funzione che effettivamente definisce il modello stesso. Poiché ogni network ha una certa dimensione minima di immagini che può processare, il caricamento delle immagini dal dataset verrà fatto modello per modello.\n",
        "Tutti i modelli da testare verranno dunque addestrati e valutati in sequenza, sui set di iperaparametri specificati."
      ],
      "metadata": {
        "id": "fsowq9Gr0aIv"
      }
    },
    {
      "cell_type": "code",
      "source": [
        "\"\"\"\n",
        "do_data_augmentation(30,30)\n",
        "do_data_augmentation(32,32)\n",
        "do_data_augmentation(75,75)\n",
        "\"\"\""
      ],
      "metadata": {
        "colab": {
          "base_uri": "https://localhost:8080/"
        },
        "id": "p_-KsyUG_JTc",
        "outputId": "5d9f9d85-9552-4e72-f11b-84c3db34b75c"
      },
      "execution_count": null,
      "outputs": [
        {
          "output_type": "execute_result",
          "data": {
            "text/plain": [
              "'\\ndo_data_augmentation(30,30)\\ndo_data_augmentation(32,32)\\ndo_data_augmentation(75,75)\\n'"
            ]
          },
          "metadata": {},
          "execution_count": 305
        }
      ]
    },
    {
      "cell_type": "code",
      "source": [
        "# main\n",
        "models_to_run = [-1,1,-2,2,-100,100,-200,200,-300,300,-400,400]\n",
        "\n",
        "hyp_set = [\n",
        "           {\"epochs\": 15, \"loss\": 'categorical_crossentropy', \"optimizer\": Adam(learning_rate=0.001), \"batch_size\": 256, \"validation_split\": 0.3, \"callback\": None}, # My...\n",
        "           {\"epochs\": 15, \"loss\": 'categorical_crossentropy', \"optimizer\": SGD(learning_rate=0.001, momentum=0.9), \"batch_size\": 64, \"validation_split\": 0.3, \"callback\": None}, # VGG\n",
        "           {\"epochs\": 15, \"loss\": 'categorical_crossentropy', \"optimizer\": Adam(learning_rate=0.001), \"batch_size\": 64, \"validation_split\": 0.3, \"callback\": ReduceLROnPlateau(monitor=\"val_loss\", factor=0.1, patience=2)}, # ResNet\n",
        "           {\"epochs\": 15, \"loss\": 'categorical_crossentropy', \"optimizer\": Adam(learning_rate=0.001), \"batch_size\": 64, \"validation_split\": 0.3, \"callback\": None} # Inception     \n",
        "           ]\n",
        "\n",
        "metrics = [F1Score(num_classes=NUM_CATEGORIES, threshold=0.5), 'accuracy', 'Precision', 'Recall']"
      ],
      "metadata": {
        "id": "Ob3796zf9A9R"
      },
      "execution_count": null,
      "outputs": []
    },
    {
      "cell_type": "code",
      "source": [
        "for m in models_to_run:\n",
        "  if m<0:\n",
        "    aug=False\n",
        "    m*=-1\n",
        "  else:\n",
        "    aug=True\n",
        "    \n",
        "  if m==1: \n",
        "    images, labels, x_train, x_test, y_train, y_test, input_shape = init_data(75,75,aug)\n",
        "    my_network(0)\n",
        "    print(3*'\\n')\n",
        "  elif m==2: \n",
        "    images, labels, x_train, x_test, y_train, y_test, input_shape = init_data(75,75,aug)\n",
        "    my_network_deeper(0)\n",
        "    print(3*'\\n')\n",
        "  elif m==100:\n",
        "    images, labels, x_train, x_test, y_train, y_test, input_shape = init_data(75,75,aug)\n",
        "    VGG16_net(1)\n",
        "    print(3*'\\n')\n",
        "  elif m==200:\n",
        "    images, labels, x_train, x_test, y_train, y_test, input_shape = init_data(75,75,aug)\n",
        "    VGG19_net(1)\n",
        "    print(3*'\\n')\n",
        "  elif m==300:\n",
        "    images, labels, x_train, x_test, y_train, y_test, input_shape = init_data(75,75,aug)\n",
        "    ResNet50V2_net(2)\n",
        "    print(3*'\\n')\n",
        "  elif m==400:\n",
        "    images, labels, x_train, x_test, y_train, y_test, input_shape = init_data(75,75,aug)\n",
        "    InceptionV3_net(3)\n",
        "    print(3*'\\n')\n",
        "  "
      ],
      "metadata": {
        "id": "IiTd7yHJRcYt",
        "colab": {
          "base_uri": "https://localhost:8080/",
          "height": 1000
        },
        "outputId": "95e0cb2f-a32f-431b-f89b-d8bf1af79386"
      },
      "execution_count": null,
      "outputs": [
        {
          "output_type": "stream",
          "name": "stdout",
          "text": [
            "Caricamento immagini dal dataset...\n",
            "\n",
            "Model Name: MyNetworkDeeper\n",
            "Data Augmentation: False\n",
            "Iperparametri: [epochs: 15, loss: categorical_crossentropy, batch_size: 256, validation_split: 0.3]\n",
            "Ottimizzatore: {'class_name': 'Adam', 'config': {'name': 'Adam', 'learning_rate': 0.001, 'decay': 0.0, 'beta_1': 0.9, 'beta_2': 0.999, 'epsilon': 1e-07, 'amsgrad': False}}\n",
            "Parametri addestrabili: 1049323\n",
            "Parametri non addestrabili: 0.0\n",
            "Parametri totali: 1049323.0\n",
            "\n",
            "Epoch 1/15\n",
            "858/858 [==============================] - 130s 150ms/step - loss: 1.4650 - f1_score: 0.5019 - accuracy: 0.5654 - precision: 0.8812 - recall: 0.4437 - val_loss: 0.3432 - val_f1_score: 0.8483 - val_accuracy: 0.8957 - val_precision: 0.9321 - val_recall: 0.8596\n",
            "Epoch 2/15\n",
            "858/858 [==============================] - 135s 158ms/step - loss: 0.2417 - f1_score: 0.9116 - accuracy: 0.9247 - precision: 0.9466 - recall: 0.9063 - val_loss: 0.1478 - val_f1_score: 0.9538 - val_accuracy: 0.9608 - val_precision: 0.9711 - val_recall: 0.9452\n",
            "Epoch 3/15\n",
            "858/858 [==============================] - 134s 157ms/step - loss: 0.1155 - f1_score: 0.9611 - accuracy: 0.9646 - precision: 0.9716 - recall: 0.9585 - val_loss: 0.0845 - val_f1_score: 0.9722 - val_accuracy: 0.9759 - val_precision: 0.9811 - val_recall: 0.9698\n",
            "Epoch 4/15\n",
            "858/858 [==============================] - 134s 156ms/step - loss: 0.0791 - f1_score: 0.9729 - accuracy: 0.9754 - precision: 0.9794 - recall: 0.9724 - val_loss: 0.0661 - val_f1_score: 0.9808 - val_accuracy: 0.9838 - val_precision: 0.9881 - val_recall: 0.9776\n",
            "Epoch 5/15\n",
            "858/858 [==============================] - 139s 162ms/step - loss: 0.0587 - f1_score: 0.9782 - accuracy: 0.9813 - precision: 0.9840 - recall: 0.9789 - val_loss: 0.0531 - val_f1_score: 0.9862 - val_accuracy: 0.9850 - val_precision: 0.9869 - val_recall: 0.9836\n",
            "Epoch 6/15\n",
            "858/858 [==============================] - 138s 161ms/step - loss: 0.0517 - f1_score: 0.9819 - accuracy: 0.9840 - precision: 0.9860 - recall: 0.9822 - val_loss: 0.0583 - val_f1_score: 0.9832 - val_accuracy: 0.9855 - val_precision: 0.9872 - val_recall: 0.9841\n",
            "Epoch 7/15\n",
            "858/858 [==============================] - 136s 158ms/step - loss: 0.0401 - f1_score: 0.9863 - accuracy: 0.9873 - precision: 0.9882 - recall: 0.9862 - val_loss: 0.0578 - val_f1_score: 0.9850 - val_accuracy: 0.9871 - val_precision: 0.9881 - val_recall: 0.9861\n",
            "Epoch 8/15\n",
            "858/858 [==============================] - 134s 157ms/step - loss: 0.0412 - f1_score: 0.9864 - accuracy: 0.9870 - precision: 0.9885 - recall: 0.9859 - val_loss: 0.0413 - val_f1_score: 0.9887 - val_accuracy: 0.9911 - val_precision: 0.9918 - val_recall: 0.9898\n",
            "Epoch 9/15\n",
            "858/858 [==============================] - 131s 153ms/step - loss: 0.0377 - f1_score: 0.9848 - accuracy: 0.9882 - precision: 0.9896 - recall: 0.9872 - val_loss: 0.0513 - val_f1_score: 0.9854 - val_accuracy: 0.9864 - val_precision: 0.9883 - val_recall: 0.9851\n",
            "Epoch 10/15\n",
            "858/858 [==============================] - 131s 152ms/step - loss: 0.0306 - f1_score: 0.9889 - accuracy: 0.9897 - precision: 0.9907 - recall: 0.9890 - val_loss: 0.0521 - val_f1_score: 0.9868 - val_accuracy: 0.9886 - val_precision: 0.9902 - val_recall: 0.9875\n",
            "Epoch 11/15\n",
            "858/858 [==============================] - 131s 153ms/step - loss: 0.0270 - f1_score: 0.9910 - accuracy: 0.9921 - precision: 0.9925 - recall: 0.9915 - val_loss: 0.0408 - val_f1_score: 0.9890 - val_accuracy: 0.9914 - val_precision: 0.9918 - val_recall: 0.9908\n",
            "Epoch 12/15\n",
            "858/858 [==============================] - 131s 152ms/step - loss: 0.0306 - f1_score: 0.9890 - accuracy: 0.9907 - precision: 0.9913 - recall: 0.9901 - val_loss: 0.0413 - val_f1_score: 0.9872 - val_accuracy: 0.9895 - val_precision: 0.9910 - val_recall: 0.9888\n",
            "Epoch 13/15\n",
            "858/858 [==============================] - 131s 152ms/step - loss: 0.0307 - f1_score: 0.9897 - accuracy: 0.9904 - precision: 0.9911 - recall: 0.9899 - val_loss: 0.0457 - val_f1_score: 0.9887 - val_accuracy: 0.9902 - val_precision: 0.9911 - val_recall: 0.9896\n",
            "Epoch 14/15\n",
            "858/858 [==============================] - 130s 152ms/step - loss: 0.0287 - f1_score: 0.9908 - accuracy: 0.9914 - precision: 0.9920 - recall: 0.9908 - val_loss: 0.0395 - val_f1_score: 0.9915 - val_accuracy: 0.9925 - val_precision: 0.9934 - val_recall: 0.9922\n",
            "Epoch 15/15\n",
            "858/858 [==============================] - 130s 152ms/step - loss: 0.0251 - f1_score: 0.9906 - accuracy: 0.9923 - precision: 0.9928 - recall: 0.9918 - val_loss: 0.0837 - val_f1_score: 0.9828 - val_accuracy: 0.9853 - val_precision: 0.9862 - val_recall: 0.9844\n",
            "395/395 [==============================] - 13s 34ms/step - loss: 0.4623 - f1_score: 0.9167 - accuracy: 0.9396 - precision: 0.9441 - recall: 0.9382\n",
            "test set f1_score avg-weighted:  0.9407625977047266\n",
            "test set accuracy:  93.95883083343506\n",
            "test set precision:  94.4068193435669\n",
            "test set recall:  93.81631016731262\n"
          ]
        },
        {
          "output_type": "display_data",
          "data": {
            "text/plain": [
              "<Figure size 1512x360 with 3 Axes>"
            ],
            "image/png": "[encoded data removed]"
          },
          "metadata": {
            "needs_background": "light"
          }
        },
        {
          "output_type": "stream",
          "name": "stdout",
          "text": [
            "\n",
            "\n",
            "\n",
            "\n",
            "\n",
            "\n"
          ]
        }
      ]
    }
  ]
}